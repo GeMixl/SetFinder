{
 "cells": [
  {
   "cell_type": "code",
   "execution_count": 12,
   "id": "ddeca2d4-7d34-41f6-95b7-5baa248d70bc",
   "metadata": {},
   "outputs": [],
   "source": [
    "from itertools import combinations"
   ]
  },
  {
   "cell_type": "code",
   "execution_count": 26,
   "id": "0eb0ba8b-bdb8-4ca1-b24c-003589c6bfc0",
   "metadata": {},
   "outputs": [
    {
     "data": {
      "text/plain": [
       "[{'form': 'pille', 'anzahl': 3, 'farbe': 'grun', 'fullung': 'voll'},\n",
       " {'form': 'schlange', 'anzahl': 3, 'farbe': 'grun', 'fullung': 'voll'},\n",
       " {'form': 'diamant', 'anzahl': 3, 'farbe': 'grun', 'fullung': 'halb'},\n",
       " {'form': 'pille', 'anzahl': 2, 'farbe': 'rot', 'fullung': 'voll'},\n",
       " {'form': 'pille', 'anzahl': 3, 'farbe': 'lila', 'fullung': 'voll'},\n",
       " {'form': 'pille', 'anzahl': 1, 'farbe': 'lila', 'fullung': 'voll'}]"
      ]
     },
     "execution_count": 26,
     "metadata": {},
     "output_type": "execute_result"
    }
   ],
   "source": [
    "deck = [{'form': 'pille',    'anzahl': 3, 'farbe': 'grun', 'fullung': 'voll'},\n",
    "        {'form': 'schlange', 'anzahl': 3, 'farbe': 'grun', 'fullung': 'voll'},\n",
    "        {'form': 'diamant',  'anzahl': 3, 'farbe': 'grun', 'fullung': 'halb'},\n",
    "        {'form': 'pille',    'anzahl': 2, 'farbe': 'rot',  'fullung': 'voll'},\n",
    "        {'form': 'pille',    'anzahl': 3, 'farbe': 'lila', 'fullung': 'voll'},\n",
    "        {'form': 'pille',    'anzahl': 1, 'farbe': 'lila', 'fullung': 'voll'},\n",
    "       ]\n",
    "deck"
   ]
  },
  {
   "cell_type": "code",
   "execution_count": 23,
   "id": "89bb0500-8746-46b6-bf44-ce5082d97842",
   "metadata": {},
   "outputs": [],
   "source": [
    "def check_if_set(cards, feature):\n",
    "    return len(set([c[feature] for c in cards])) in (1,3)"
   ]
  },
  {
   "cell_type": "code",
   "execution_count": 27,
   "id": "36517add-dae2-4cfc-95c0-6d8eba099fc2",
   "metadata": {},
   "outputs": [
    {
     "data": {
      "text/plain": [
       "[[{'form': 'pille', 'anzahl': 3, 'farbe': 'grun', 'fullung': 'voll'},\n",
       "  {'form': 'pille', 'anzahl': 2, 'farbe': 'rot', 'fullung': 'voll'},\n",
       "  {'form': 'pille', 'anzahl': 1, 'farbe': 'lila', 'fullung': 'voll'}]]"
      ]
     },
     "execution_count": 27,
     "metadata": {},
     "output_type": "execute_result"
    }
   ],
   "source": [
    "[[i, j, k] \n",
    " for i, j, k \n",
    " in combinations(deck,3) \n",
    " if  check_if_set((i, j, k), 'form') and \n",
    "     check_if_set((i, j, k), 'anzahl') and \n",
    "     check_if_set((i, j, k), 'farbe') and \n",
    "     check_if_set((i, j, k), 'fullung')\n",
    "]"
   ]
  }
 ],
 "metadata": {
  "kernelspec": {
   "display_name": "Python 3 (ipykernel)",
   "language": "python",
   "name": "python3"
  },
  "language_info": {
   "codemirror_mode": {
    "name": "ipython",
    "version": 3
   },
   "file_extension": ".py",
   "mimetype": "text/x-python",
   "name": "python",
   "nbconvert_exporter": "python",
   "pygments_lexer": "ipython3",
   "version": "3.10.12"
  }
 },
 "nbformat": 4,
 "nbformat_minor": 5
}
